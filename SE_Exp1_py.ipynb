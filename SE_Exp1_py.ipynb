{
  "nbformat": 4,
  "nbformat_minor": 0,
  "metadata": {
    "colab": {
      "provenance": [],
      "authorship_tag": "ABX9TyMCe4yU4BaWJqNpJIQ97bZe",
      "include_colab_link": true
    },
    "kernelspec": {
      "name": "python3",
      "display_name": "Python 3"
    },
    "language_info": {
      "name": "python"
    }
  },
  "cells": [
    {
      "cell_type": "markdown",
      "metadata": {
        "id": "view-in-github",
        "colab_type": "text"
      },
      "source": [
        "<a href=\"https://colab.research.google.com/github/saifullakhan3/HU22CSEN0101243/blob/main/SE_Exp1_py.ipynb\" target=\"_parent\"><img src=\"https://colab.research.google.com/assets/colab-badge.svg\" alt=\"Open In Colab\"/></a>"
      ]
    },
    {
      "cell_type": "code",
      "execution_count": null,
      "metadata": {
        "id": "eAr-cirolovY"
      },
      "outputs": [],
      "source": [
        "# implement weather modelling using the quadratic solutions in stages: hardcoded variables, keyboard input, read from file, for a single set of input, for multiple set of inputs"
      ]
    },
    {
      "cell_type": "code",
      "source": [
        "# temperature function\n",
        "def temperature(a,b,c,time):\n",
        "  temp = a*time*time+b*time+c\n",
        "  return temp"
      ],
      "metadata": {
        "id": "_PHkzo2jm_hM"
      },
      "execution_count": 48,
      "outputs": []
    },
    {
      "cell_type": "code",
      "source": [
        "#hardcoded variables\n",
        "a,b,c = 0.2,4,7\n",
        "time = 5"
      ],
      "metadata": {
        "id": "Orta3uPQnFfz"
      },
      "execution_count": 6,
      "outputs": []
    },
    {
      "cell_type": "code",
      "source": [
        "print(\"temperature from hardcoded variable is \",temperature(a,b,c,time))"
      ],
      "metadata": {
        "colab": {
          "base_uri": "https://localhost:8080/"
        },
        "id": "6xLCJRptnaFu",
        "outputId": "e6dd3003-1c87-451d-ce3a-45ba7f433f82"
      },
      "execution_count": 9,
      "outputs": [
        {
          "output_type": "stream",
          "name": "stdout",
          "text": [
            "temperature from hardcoded variable is  32.0\n"
          ]
        }
      ]
    },
    {
      "cell_type": "code",
      "source": [
        "#keyboard input\n",
        "a=float(input(\"Enter the value of a: \"))\n",
        "b=float(input(\"Enter the value of b: \"))\n",
        "c=float(input(\"Enter the value of c: \"))\n",
        "time = int(input(\"Enter time: \"))"
      ],
      "metadata": {
        "colab": {
          "base_uri": "https://localhost:8080/"
        },
        "id": "990hPdetn_Ac",
        "outputId": "1bdbd8eb-2daf-497b-8769-7c07eddfd8ce"
      },
      "execution_count": 11,
      "outputs": [
        {
          "name": "stdout",
          "output_type": "stream",
          "text": [
            "Enter the value of a: 0.1\n",
            "Enter the value of b: 3\n",
            "Enter the value of c: 5\n",
            "Enter time: 5\n"
          ]
        }
      ]
    },
    {
      "cell_type": "code",
      "source": [
        "print(\"temperature from keyboard input variable is \",temperature(a,b,c,time))"
      ],
      "metadata": {
        "colab": {
          "base_uri": "https://localhost:8080/"
        },
        "id": "MCQGkGhgoe65",
        "outputId": "e72b6003-606a-4f55-fc3d-c4204272abc9"
      },
      "execution_count": 13,
      "outputs": [
        {
          "output_type": "stream",
          "name": "stdout",
          "text": [
            "temperature from keyboard input variable is  22.5\n"
          ]
        }
      ]
    },
    {
      "cell_type": "code",
      "source": [
        "def read_from_file(input):\n",
        "  with open('input.txt','r') as file:\n",
        "    lines = file.readlines()\n",
        "  input = [tuple(map(float,line.strip().split(','))) for line in lines]\n",
        "  return input\n",
        ""
      ],
      "metadata": {
        "id": "Un2o4MBkpwJz"
      },
      "execution_count": 54,
      "outputs": []
    },
    {
      "cell_type": "code",
      "source": [
        "#single set of inputs\n",
        "input = read_from_file('/content/input.txt')\n",
        "a,b,c,time = input[0]\n",
        "print(\"temperature from file with single input is \",temperature(a,b,c,time))"
      ],
      "metadata": {
        "colab": {
          "base_uri": "https://localhost:8080/"
        },
        "id": "YQPDF_a5rGw5",
        "outputId": "3323976c-1f5b-4e62-b2fe-6f9361a1a74e"
      },
      "execution_count": 53,
      "outputs": [
        {
          "output_type": "stream",
          "name": "stdout",
          "text": [
            "temperature from file with single input is  -23.4\n"
          ]
        }
      ]
    },
    {
      "cell_type": "code",
      "source": [
        "#multiple set of inputs\n",
        "for idx, (a,b,c,time) in enumerate(input):\n",
        "  print(\"temperature from file with multiple input is \",temperature(a,b,c,time))"
      ],
      "metadata": {
        "colab": {
          "base_uri": "https://localhost:8080/"
        },
        "id": "Uqem9z4S0k8c",
        "outputId": "bf396427-6c1d-47bd-f48e-2dca85717395"
      },
      "execution_count": 56,
      "outputs": [
        {
          "output_type": "stream",
          "name": "stdout",
          "text": [
            "temperature from file with multiple input is  -23.4\n",
            "temperature from file with multiple input is  25.0\n",
            "temperature from file with multiple input is  26.9\n"
          ]
        }
      ]
    }
  ]
}