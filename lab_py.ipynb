{
  "nbformat": 4,
  "nbformat_minor": 0,
  "metadata": {
    "colab": {
      "provenance": [],
      "authorship_tag": "ABX9TyNWz2tOnCzq0oYpIm014JQu",
      "include_colab_link": true
    },
    "kernelspec": {
      "name": "python3",
      "display_name": "Python 3"
    },
    "language_info": {
      "name": "python"
    }
  },
  "cells": [
    {
      "cell_type": "markdown",
      "metadata": {
        "id": "view-in-github",
        "colab_type": "text"
      },
      "source": [
        "<a href=\"https://colab.research.google.com/github/saifullakhan3/HU22CSEN0101243/blob/main/lab_py.ipynb\" target=\"_parent\"><img src=\"https://colab.research.google.com/assets/colab-badge.svg\" alt=\"Open In Colab\"/></a>"
      ]
    },
    {
      "cell_type": "code",
      "execution_count": 1,
      "metadata": {
        "id": "Is49vtUmSJ02"
      },
      "outputs": [],
      "source": [
        "def temp(a,b,c,time):\n",
        "  temp = a*time*time+b*time+c\n",
        "  return temp\n"
      ]
    },
    {
      "cell_type": "code",
      "source": [
        "#hardcoded variables\n",
        "a=10\n",
        "b=5\n",
        "c=2\n",
        "time=3\n",
        "d=temp(a,b,c,time)\n",
        "print(\"Temp by using hardcoded variables is: \",d)"
      ],
      "metadata": {
        "colab": {
          "base_uri": "https://localhost:8080/"
        },
        "id": "CNChC3NDSjgZ",
        "outputId": "5ea50bd0-b55c-49c7-ba47-8dd13b684d5b"
      },
      "execution_count": 2,
      "outputs": [
        {
          "output_type": "stream",
          "name": "stdout",
          "text": [
            "Temp by using hardcoded variables is:  107\n"
          ]
        }
      ]
    },
    {
      "cell_type": "code",
      "source": [
        "#keyboard input\n",
        "a=float(input(\"Enter a: \"))\n",
        "b=float(input(\"Enter b: \"))\n",
        "c=float(input(\"Enter c: \"))\n",
        "time=float(input(\"Enter time: \"))\n",
        "d = temp(a,b,c,time)\n",
        "print(\"Temp by using keyboard input variable is: \",d)"
      ],
      "metadata": {
        "colab": {
          "base_uri": "https://localhost:8080/"
        },
        "id": "7VCPGZyZS9rE",
        "outputId": "06762b72-2525-4c75-9ce7-6bf8a8d6dab5"
      },
      "execution_count": 3,
      "outputs": [
        {
          "output_type": "stream",
          "name": "stdout",
          "text": [
            "Enter a: 2.5\n",
            "Enter b: 3.2\n",
            "Enter c: 4\n",
            "Enter time: 2.5\n",
            "Temp by using keyboard input variable is:  27.625\n"
          ]
        }
      ]
    },
    {
      "cell_type": "code",
      "source": [
        "#reading from file\n",
        "def read_from_file(input):\n",
        "  with open('input.txt','r') as file:\n",
        "    lines = file.readlines()\n",
        "  input = [tuple(map(float,line.strip().split(','))) for line in lines]\n",
        "  return input"
      ],
      "metadata": {
        "id": "SJpSehY6TfOC"
      },
      "execution_count": 10,
      "outputs": []
    },
    {
      "cell_type": "code",
      "source": [
        "#single set of input\n",
        "input = read_from_file('\\Users\\H-CSE-404-29\\Desktop\\input.txt')\n",
        "a,b,c,time = input[0]\n",
        "print(\"temperature from file with single input is \",temperature(a,b,c,time))"
      ],
      "metadata": {
        "colab": {
          "base_uri": "https://localhost:8080/",
          "height": 106
        },
        "id": "zypG1BEZUzIL",
        "outputId": "58cb413b-d2b1-4ba4-dfcd-71720bcfdd32"
      },
      "execution_count": 25,
      "outputs": [
        {
          "output_type": "error",
          "ename": "SyntaxError",
          "evalue": "(unicode error) 'unicodeescape' codec can't decode bytes in position 0-1: truncated \\UXXXXXXXX escape (<ipython-input-25-93a03c69545f>, line 2)",
          "traceback": [
            "\u001b[0;36m  File \u001b[0;32m\"<ipython-input-25-93a03c69545f>\"\u001b[0;36m, line \u001b[0;32m2\u001b[0m\n\u001b[0;31m    input = read_from_file('\\Users\\H-CSE-404-29\\Desktop\\input.txt')\u001b[0m\n\u001b[0m                                                                  ^\u001b[0m\n\u001b[0;31mSyntaxError\u001b[0m\u001b[0;31m:\u001b[0m (unicode error) 'unicodeescape' codec can't decode bytes in position 0-1: truncated \\UXXXXXXXX escape\n"
          ]
        }
      ]
    },
    {
      "cell_type": "code",
      "source": [
        "#multiple set of inputs\n",
        "for idx, (a,b,c,time) in enumerate(input):\n",
        "  print(\"temperature from file with multiple input is \",temperature(a,b,c,time))"
      ],
      "metadata": {
        "colab": {
          "base_uri": "https://localhost:8080/",
          "height": 176
        },
        "id": "q__6RrXsVG7L",
        "outputId": "7fd3fe68-7b5b-489e-b83f-b8774cdc203b"
      },
      "execution_count": 26,
      "outputs": [
        {
          "output_type": "error",
          "ename": "TypeError",
          "evalue": "'method' object is not iterable",
          "traceback": [
            "\u001b[0;31m---------------------------------------------------------------------------\u001b[0m",
            "\u001b[0;31mTypeError\u001b[0m                                 Traceback (most recent call last)",
            "\u001b[0;32m<ipython-input-26-db986a03a830>\u001b[0m in \u001b[0;36m<cell line: 0>\u001b[0;34m()\u001b[0m\n\u001b[1;32m      1\u001b[0m \u001b[0;31m#multiple set of inputs\u001b[0m\u001b[0;34m\u001b[0m\u001b[0;34m\u001b[0m\u001b[0m\n\u001b[0;32m----> 2\u001b[0;31m \u001b[0;32mfor\u001b[0m \u001b[0midx\u001b[0m\u001b[0;34m,\u001b[0m \u001b[0;34m(\u001b[0m\u001b[0ma\u001b[0m\u001b[0;34m,\u001b[0m\u001b[0mb\u001b[0m\u001b[0;34m,\u001b[0m\u001b[0mc\u001b[0m\u001b[0;34m,\u001b[0m\u001b[0mtime\u001b[0m\u001b[0;34m)\u001b[0m \u001b[0;32min\u001b[0m \u001b[0menumerate\u001b[0m\u001b[0;34m(\u001b[0m\u001b[0minput\u001b[0m\u001b[0;34m)\u001b[0m\u001b[0;34m:\u001b[0m\u001b[0;34m\u001b[0m\u001b[0;34m\u001b[0m\u001b[0m\n\u001b[0m\u001b[1;32m      3\u001b[0m   \u001b[0mprint\u001b[0m\u001b[0;34m(\u001b[0m\u001b[0;34m\"temperature from file with multiple input is \"\u001b[0m\u001b[0;34m,\u001b[0m\u001b[0mtemperature\u001b[0m\u001b[0;34m(\u001b[0m\u001b[0ma\u001b[0m\u001b[0;34m,\u001b[0m\u001b[0mb\u001b[0m\u001b[0;34m,\u001b[0m\u001b[0mc\u001b[0m\u001b[0;34m,\u001b[0m\u001b[0mtime\u001b[0m\u001b[0;34m)\u001b[0m\u001b[0;34m)\u001b[0m\u001b[0;34m\u001b[0m\u001b[0;34m\u001b[0m\u001b[0m\n",
            "\u001b[0;31mTypeError\u001b[0m: 'method' object is not iterable"
          ]
        }
      ]
    }
  ]
}