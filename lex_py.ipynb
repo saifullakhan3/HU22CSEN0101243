{
  "nbformat": 4,
  "nbformat_minor": 0,
  "metadata": {
    "colab": {
      "provenance": [],
      "authorship_tag": "ABX9TyO+GlnVwZvjbSZA4/YltYjg",
      "include_colab_link": true
    },
    "kernelspec": {
      "name": "python3",
      "display_name": "Python 3"
    },
    "language_info": {
      "name": "python"
    }
  },
  "cells": [
    {
      "cell_type": "markdown",
      "metadata": {
        "id": "view-in-github",
        "colab_type": "text"
      },
      "source": [
        "<a href=\"https://colab.research.google.com/github/saifullakhan3/HU22CSEN0101243/blob/main/lex_py.ipynb\" target=\"_parent\"><img src=\"https://colab.research.google.com/assets/colab-badge.svg\" alt=\"Open In Colab\"/></a>"
      ]
    },
    {
      "cell_type": "code",
      "source": [
        "!sudo apt install flex bison\n"
      ],
      "metadata": {
        "colab": {
          "base_uri": "https://localhost:8080/"
        },
        "id": "cwH3XD9H58I_",
        "outputId": "94f2226e-b54f-41fa-ac42-d12223f48078"
      },
      "execution_count": null,
      "outputs": [
        {
          "output_type": "stream",
          "name": "stdout",
          "text": [
            "Reading package lists... Done\n",
            "Building dependency tree... Done\n",
            "Reading state information... Done\n",
            "bison is already the newest version (2:3.8.2+dfsg-1build1).\n",
            "flex is already the newest version (2.6.4-8build2).\n",
            "0 upgraded, 0 newly installed, 0 to remove and 18 not upgraded.\n"
          ]
        }
      ]
    },
    {
      "cell_type": "code",
      "source": [
        "%%writefile program1.l\n",
        "%{\n",
        "  #include<stdio.h>\n",
        "  int lc=0;\n",
        "  int sc=0;\n",
        "  int tc=0;\n",
        "  int wc=0;\n",
        "  int ch=0;\n",
        "%}\n",
        "\n",
        "%%\n",
        "[\\n] { lc++; ch+=yyleng;}\n",
        "[ \\t] { sc++; ch+=yyleng;}\n",
        "[^\\t] { tc++; ch+=yyleng;}\n",
        "[^\\t\\n ]+ { wc++; ch+=yyleng;}\n",
        "%%\n",
        "\n",
        "int yywrap() {return 1;}\n",
        "\n",
        "int main(){\n",
        "  printf(\"Enter the sentence :\\n\");\n",
        "  yylex();\n",
        "  printf(\"no. of lines %d\\n\",lc);\n",
        "  printf(\"no. of words %d\\n\",wc);\n",
        "  printf(\"no. of spaces %d\\n\",sc);\n",
        "  printf(\"no. of tabs %d\\n\",tc);\n",
        "  printf(\"no. of char %d\\n\",ch);\n",
        "\n",
        "  return 0;\n",
        "\n",
        "}"
      ],
      "metadata": {
        "colab": {
          "base_uri": "https://localhost:8080/"
        },
        "id": "fiEvckTT6No9",
        "outputId": "ca804239-7711-482e-a686-5972f48d3575"
      },
      "execution_count": null,
      "outputs": [
        {
          "output_type": "stream",
          "name": "stdout",
          "text": [
            "Writing program1.l\n"
          ]
        }
      ]
    },
    {
      "cell_type": "code",
      "source": [
        "!lex program1.l"
      ],
      "metadata": {
        "id": "ovMK7TiJ-t9j"
      },
      "execution_count": null,
      "outputs": []
    },
    {
      "cell_type": "code",
      "source": [
        "!gcc lex.yy.c -o program1"
      ],
      "metadata": {
        "id": "vG3fUOmy-xrf"
      },
      "execution_count": null,
      "outputs": []
    },
    {
      "cell_type": "code",
      "source": [
        "!echo \"hi this is lex\" | ./program1"
      ],
      "metadata": {
        "colab": {
          "base_uri": "https://localhost:8080/"
        },
        "id": "pDDEL-tIBIbt",
        "outputId": "699a8ccd-383e-460f-8265-a7b71363ef75"
      },
      "execution_count": null,
      "outputs": [
        {
          "output_type": "stream",
          "name": "stdout",
          "text": [
            "Enter the sentence :\n",
            "no. of lines 1\n",
            "no. of words 4\n",
            "no. of spaces 3\n",
            "no. of tabs 0\n",
            "no. of char 15\n"
          ]
        }
      ]
    }
  ]
}